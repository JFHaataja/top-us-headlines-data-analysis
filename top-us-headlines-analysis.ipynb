{
 "cells": [
  {
   "cell_type": "markdown",
   "metadata": {},
   "source": [
    "# Top United States Headlines Data Analysis"
   ]
  },
  {
   "cell_type": "code",
   "execution_count": 1,
   "metadata": {},
   "outputs": [],
   "source": [
    "import numpy as np\n",
    "import pandas as pd\n",
    "import matplotlib.pyplot as plt\n",
    "import seaborn as sns\n",
    "from textblob import TextBlob\n",
    "from sklearn.feature_extraction.text import CountVectorizer"
   ]
  },
  {
   "cell_type": "code",
   "execution_count": 2,
   "metadata": {},
   "outputs": [],
   "source": [
    "# Open the data\n",
    "df = pd.read_excel('top_headlines.xlsx')"
   ]
  },
  {
   "cell_type": "markdown",
   "metadata": {},
   "source": [
    "## 1. Data Preprocessing"
   ]
  },
  {
   "cell_type": "markdown",
   "metadata": {},
   "source": [
    "### Getting to Know the Data"
   ]
  },
  {
   "cell_type": "code",
   "execution_count": 3,
   "metadata": {},
   "outputs": [
    {
     "data": {
      "text/html": [
       "<div>\n",
       "<style scoped>\n",
       "    .dataframe tbody tr th:only-of-type {\n",
       "        vertical-align: middle;\n",
       "    }\n",
       "\n",
       "    .dataframe tbody tr th {\n",
       "        vertical-align: top;\n",
       "    }\n",
       "\n",
       "    .dataframe thead th {\n",
       "        text-align: right;\n",
       "    }\n",
       "</style>\n",
       "<table border=\"1\" class=\"dataframe\">\n",
       "  <thead>\n",
       "    <tr style=\"text-align: right;\">\n",
       "      <th></th>\n",
       "      <th>Title</th>\n",
       "      <th>Source</th>\n",
       "      <th>Author</th>\n",
       "      <th>Published At</th>\n",
       "      <th>URL</th>\n",
       "    </tr>\n",
       "  </thead>\n",
       "  <tbody>\n",
       "    <tr>\n",
       "      <th>0</th>\n",
       "      <td>Stocks are little changed as investors await N...</td>\n",
       "      <td>CNBC</td>\n",
       "      <td>Samantha Subin, Brian Evans</td>\n",
       "      <td>2024-11-20T14:30:00Z</td>\n",
       "      <td>https://www.cnbc.com/2024/11/19/stock-market-t...</td>\n",
       "    </tr>\n",
       "    <tr>\n",
       "      <th>1</th>\n",
       "      <td>S.T.A.L.K.E.R. 2: Heart of Chornobyl is a glor...</td>\n",
       "      <td>The Verge</td>\n",
       "      <td>Lewis Gordon</td>\n",
       "      <td>2024-11-20T14:00:00Z</td>\n",
       "      <td>https://www.theverge.com/2024/11/20/24300652/s...</td>\n",
       "    </tr>\n",
       "    <tr>\n",
       "      <th>2</th>\n",
       "      <td>[Removed]</td>\n",
       "      <td>[Removed]</td>\n",
       "      <td>NaN</td>\n",
       "      <td>2024-11-20T13:58:00Z</td>\n",
       "      <td>https://removed.com</td>\n",
       "    </tr>\n",
       "    <tr>\n",
       "      <th>3</th>\n",
       "      <td>'Bomb cyclone' kills 1 and knocks out power to...</td>\n",
       "      <td>Associated Press</td>\n",
       "      <td>HALLIE GOLDEN, LISA BAUMANN</td>\n",
       "      <td>2024-11-20T13:24:00Z</td>\n",
       "      <td>https://apnews.com/article/california-oregon-w...</td>\n",
       "    </tr>\n",
       "    <tr>\n",
       "      <th>4</th>\n",
       "      <td>Liam Payne’s Funeral: One Direction’s Harry St...</td>\n",
       "      <td>Variety</td>\n",
       "      <td>Ellise Shafer</td>\n",
       "      <td>2024-11-20T13:22:00Z</td>\n",
       "      <td>https://variety.com/2024/music/global/liam-pay...</td>\n",
       "    </tr>\n",
       "  </tbody>\n",
       "</table>\n",
       "</div>"
      ],
      "text/plain": [
       "                                               Title            Source  \\\n",
       "0  Stocks are little changed as investors await N...              CNBC   \n",
       "1  S.T.A.L.K.E.R. 2: Heart of Chornobyl is a glor...         The Verge   \n",
       "2                                          [Removed]         [Removed]   \n",
       "3  'Bomb cyclone' kills 1 and knocks out power to...  Associated Press   \n",
       "4  Liam Payne’s Funeral: One Direction’s Harry St...           Variety   \n",
       "\n",
       "                        Author          Published At  \\\n",
       "0  Samantha Subin, Brian Evans  2024-11-20T14:30:00Z   \n",
       "1                 Lewis Gordon  2024-11-20T14:00:00Z   \n",
       "2                          NaN  2024-11-20T13:58:00Z   \n",
       "3  HALLIE GOLDEN, LISA BAUMANN  2024-11-20T13:24:00Z   \n",
       "4                Ellise Shafer  2024-11-20T13:22:00Z   \n",
       "\n",
       "                                                 URL  \n",
       "0  https://www.cnbc.com/2024/11/19/stock-market-t...  \n",
       "1  https://www.theverge.com/2024/11/20/24300652/s...  \n",
       "2                                https://removed.com  \n",
       "3  https://apnews.com/article/california-oregon-w...  \n",
       "4  https://variety.com/2024/music/global/liam-pay...  "
      ]
     },
     "execution_count": 3,
     "metadata": {},
     "output_type": "execute_result"
    }
   ],
   "source": [
    "# print a few rows\n",
    "df.head()"
   ]
  },
  {
   "cell_type": "code",
   "execution_count": 4,
   "metadata": {},
   "outputs": [
    {
     "data": {
      "text/html": [
       "<div>\n",
       "<style scoped>\n",
       "    .dataframe tbody tr th:only-of-type {\n",
       "        vertical-align: middle;\n",
       "    }\n",
       "\n",
       "    .dataframe tbody tr th {\n",
       "        vertical-align: top;\n",
       "    }\n",
       "\n",
       "    .dataframe thead th {\n",
       "        text-align: right;\n",
       "    }\n",
       "</style>\n",
       "<table border=\"1\" class=\"dataframe\">\n",
       "  <thead>\n",
       "    <tr style=\"text-align: right;\">\n",
       "      <th></th>\n",
       "      <th>Title</th>\n",
       "      <th>Source</th>\n",
       "      <th>Author</th>\n",
       "      <th>Published At</th>\n",
       "      <th>URL</th>\n",
       "    </tr>\n",
       "  </thead>\n",
       "  <tbody>\n",
       "    <tr>\n",
       "      <th>count</th>\n",
       "      <td>35</td>\n",
       "      <td>35</td>\n",
       "      <td>27</td>\n",
       "      <td>35</td>\n",
       "      <td>35</td>\n",
       "    </tr>\n",
       "    <tr>\n",
       "      <th>unique</th>\n",
       "      <td>32</td>\n",
       "      <td>24</td>\n",
       "      <td>26</td>\n",
       "      <td>35</td>\n",
       "      <td>32</td>\n",
       "    </tr>\n",
       "    <tr>\n",
       "      <th>top</th>\n",
       "      <td>[Removed]</td>\n",
       "      <td>[Removed]</td>\n",
       "      <td>The Wall Street Journal</td>\n",
       "      <td>2024-11-20T14:30:00Z</td>\n",
       "      <td>https://removed.com</td>\n",
       "    </tr>\n",
       "    <tr>\n",
       "      <th>freq</th>\n",
       "      <td>4</td>\n",
       "      <td>4</td>\n",
       "      <td>2</td>\n",
       "      <td>1</td>\n",
       "      <td>4</td>\n",
       "    </tr>\n",
       "  </tbody>\n",
       "</table>\n",
       "</div>"
      ],
      "text/plain": [
       "            Title     Source                   Author          Published At  \\\n",
       "count          35         35                       27                    35   \n",
       "unique         32         24                       26                    35   \n",
       "top     [Removed]  [Removed]  The Wall Street Journal  2024-11-20T14:30:00Z   \n",
       "freq            4          4                        2                     1   \n",
       "\n",
       "                        URL  \n",
       "count                    35  \n",
       "unique                   32  \n",
       "top     https://removed.com  \n",
       "freq                      4  "
      ]
     },
     "execution_count": 4,
     "metadata": {},
     "output_type": "execute_result"
    }
   ],
   "source": [
    "df.describe()"
   ]
  },
  {
   "cell_type": "code",
   "execution_count": 5,
   "metadata": {},
   "outputs": [
    {
     "name": "stdout",
     "output_type": "stream",
     "text": [
      "[False]\n"
     ]
    }
   ],
   "source": [
    "# checking for duplicated rows. The output will have the word True if there are duplicated rows\n",
    "duplicates = df.duplicated().unique()\n",
    "print(duplicates)"
   ]
  },
  {
   "cell_type": "markdown",
   "metadata": {},
   "source": [
    "### Checking for and dealing with missing values"
   ]
  },
  {
   "cell_type": "code",
   "execution_count": 6,
   "metadata": {},
   "outputs": [
    {
     "data": {
      "text/plain": [
       "Title           0\n",
       "Source          0\n",
       "Author          8\n",
       "Published At    0\n",
       "URL             0\n",
       "dtype: int64"
      ]
     },
     "execution_count": 6,
     "metadata": {},
     "output_type": "execute_result"
    }
   ],
   "source": [
    "df.isnull().sum()"
   ]
  },
  {
   "cell_type": "code",
   "execution_count": 7,
   "metadata": {},
   "outputs": [
    {
     "name": "stdout",
     "output_type": "stream",
     "text": [
      "Empty before replacement: 8\n",
      "Empty after replacement: 0\n"
     ]
    }
   ],
   "source": [
    "# Let's count the empty values before filling them\n",
    "missing_before = df['Author'].isna().sum()\n",
    "print(f\"Empty before replacement: {missing_before}\")\n",
    "\n",
    "# Let's replace empty values with the word \"Unknown\"\n",
    "df['Author'] = df['Author'].fillna('Unknown')\n",
    "\n",
    "# Let's count the empty values after filling them\n",
    "missing_after = df['Author'].isna().sum()\n",
    "print(f\"Empty after replacement: {missing_after}\")"
   ]
  },
  {
   "cell_type": "markdown",
   "metadata": {},
   "source": [
    "### Deleting URL's where url = 'https://removed.com'"
   ]
  },
  {
   "cell_type": "code",
   "execution_count": 8,
   "metadata": {},
   "outputs": [
    {
     "data": {
      "text/html": [
       "<div>\n",
       "<style scoped>\n",
       "    .dataframe tbody tr th:only-of-type {\n",
       "        vertical-align: middle;\n",
       "    }\n",
       "\n",
       "    .dataframe tbody tr th {\n",
       "        vertical-align: top;\n",
       "    }\n",
       "\n",
       "    .dataframe thead th {\n",
       "        text-align: right;\n",
       "    }\n",
       "</style>\n",
       "<table border=\"1\" class=\"dataframe\">\n",
       "  <thead>\n",
       "    <tr style=\"text-align: right;\">\n",
       "      <th></th>\n",
       "      <th>Title</th>\n",
       "      <th>Source</th>\n",
       "      <th>Author</th>\n",
       "      <th>Published At</th>\n",
       "      <th>URL</th>\n",
       "    </tr>\n",
       "  </thead>\n",
       "  <tbody>\n",
       "    <tr>\n",
       "      <th>0</th>\n",
       "      <td>Stocks are little changed as investors await N...</td>\n",
       "      <td>CNBC</td>\n",
       "      <td>Samantha Subin, Brian Evans</td>\n",
       "      <td>2024-11-20T14:30:00Z</td>\n",
       "      <td>https://www.cnbc.com/2024/11/19/stock-market-t...</td>\n",
       "    </tr>\n",
       "    <tr>\n",
       "      <th>1</th>\n",
       "      <td>S.T.A.L.K.E.R. 2: Heart of Chornobyl is a glor...</td>\n",
       "      <td>The Verge</td>\n",
       "      <td>Lewis Gordon</td>\n",
       "      <td>2024-11-20T14:00:00Z</td>\n",
       "      <td>https://www.theverge.com/2024/11/20/24300652/s...</td>\n",
       "    </tr>\n",
       "    <tr>\n",
       "      <th>3</th>\n",
       "      <td>'Bomb cyclone' kills 1 and knocks out power to...</td>\n",
       "      <td>Associated Press</td>\n",
       "      <td>HALLIE GOLDEN, LISA BAUMANN</td>\n",
       "      <td>2024-11-20T13:24:00Z</td>\n",
       "      <td>https://apnews.com/article/california-oregon-w...</td>\n",
       "    </tr>\n",
       "    <tr>\n",
       "      <th>4</th>\n",
       "      <td>Liam Payne’s Funeral: One Direction’s Harry St...</td>\n",
       "      <td>Variety</td>\n",
       "      <td>Ellise Shafer</td>\n",
       "      <td>2024-11-20T13:22:00Z</td>\n",
       "      <td>https://variety.com/2024/music/global/liam-pay...</td>\n",
       "    </tr>\n",
       "    <tr>\n",
       "      <th>5</th>\n",
       "      <td>Biden administration approves sending anti-per...</td>\n",
       "      <td>CNN</td>\n",
       "      <td>Oren Liebermann, Natasha Bertrand</td>\n",
       "      <td>2024-11-20T13:04:00Z</td>\n",
       "      <td>https://www.cnn.com/2024/11/19/politics/biden-...</td>\n",
       "    </tr>\n",
       "  </tbody>\n",
       "</table>\n",
       "</div>"
      ],
      "text/plain": [
       "                                               Title            Source  \\\n",
       "0  Stocks are little changed as investors await N...              CNBC   \n",
       "1  S.T.A.L.K.E.R. 2: Heart of Chornobyl is a glor...         The Verge   \n",
       "3  'Bomb cyclone' kills 1 and knocks out power to...  Associated Press   \n",
       "4  Liam Payne’s Funeral: One Direction’s Harry St...           Variety   \n",
       "5  Biden administration approves sending anti-per...               CNN   \n",
       "\n",
       "                              Author          Published At  \\\n",
       "0        Samantha Subin, Brian Evans  2024-11-20T14:30:00Z   \n",
       "1                       Lewis Gordon  2024-11-20T14:00:00Z   \n",
       "3        HALLIE GOLDEN, LISA BAUMANN  2024-11-20T13:24:00Z   \n",
       "4                      Ellise Shafer  2024-11-20T13:22:00Z   \n",
       "5  Oren Liebermann, Natasha Bertrand  2024-11-20T13:04:00Z   \n",
       "\n",
       "                                                 URL  \n",
       "0  https://www.cnbc.com/2024/11/19/stock-market-t...  \n",
       "1  https://www.theverge.com/2024/11/20/24300652/s...  \n",
       "3  https://apnews.com/article/california-oregon-w...  \n",
       "4  https://variety.com/2024/music/global/liam-pay...  \n",
       "5  https://www.cnn.com/2024/11/19/politics/biden-...  "
      ]
     },
     "execution_count": 8,
     "metadata": {},
     "output_type": "execute_result"
    }
   ],
   "source": [
    "# We will delete the rows where URL is \"https://removed.com\"\n",
    "df = df[df['URL'] != 'https://removed.com']\n",
    "\n",
    "# Checking the result\n",
    "df.head()"
   ]
  },
  {
   "cell_type": "markdown",
   "metadata": {},
   "source": [
    "### Normalizing author names"
   ]
  },
  {
   "cell_type": "code",
   "execution_count": 9,
   "metadata": {},
   "outputs": [
    {
     "name": "stdout",
     "output_type": "stream",
     "text": [
      "0          Samantha Subin, Brian Evans\n",
      "1                         Lewis Gordon\n",
      "3          HALLIE GOLDEN, LISA BAUMANN\n",
      "4                        Ellise Shafer\n",
      "5    Oren Liebermann, Natasha Bertrand\n",
      "Name: Author, dtype: object\n"
     ]
    }
   ],
   "source": [
    "# Checking the names before changes\n",
    "# Hallie Golden, Lisa Baumann written with capital letters\n",
    "print(df['Author'].head())"
   ]
  },
  {
   "cell_type": "code",
   "execution_count": 10,
   "metadata": {},
   "outputs": [
    {
     "name": "stdout",
     "output_type": "stream",
     "text": [
      "0          Samantha Subin, Brian Evans\n",
      "1                         Lewis Gordon\n",
      "3          Hallie Golden, Lisa Baumann\n",
      "4                        Ellise Shafer\n",
      "5    Oren Liebermann, Natasha Bertrand\n",
      "Name: Author, dtype: object\n"
     ]
    }
   ],
   "source": [
    "# Altering the names in the Author column so that they all begin with a capital letter\n",
    "df['Author'] = df['Author'].str.title()\n",
    "\n",
    "# Verifying the changes\n",
    "print(df['Author'].head())"
   ]
  },
  {
   "cell_type": "markdown",
   "metadata": {},
   "source": [
    "## 2. Basic Analysis"
   ]
  },
  {
   "cell_type": "markdown",
   "metadata": {},
   "source": [
    "### Distribution of Sources"
   ]
  },
  {
   "cell_type": "code",
   "execution_count": 11,
   "metadata": {},
   "outputs": [
    {
     "name": "stdout",
     "output_type": "stream",
     "text": [
      "Distribution of Sources:\n",
      "Source\n",
      "CNN                                             3\n",
      "Reuters                                         3\n",
      "Associated Press                                2\n",
      "The Daily Galaxy --Great Discoveries Channel    2\n",
      "Yahoo Entertainment                             2\n",
      "The Wall Street Journal                         2\n",
      "CNBC                                            1\n",
      "New York Post                                   1\n",
      "Push Square                                     1\n",
      "National Geographic                             1\n",
      "BBC News                                        1\n",
      "Gizmodo.com                                     1\n",
      "MacRumors                                       1\n",
      "The Denver Post                                 1\n",
      "Financial Times                                 1\n",
      "ESPN                                            1\n",
      "The Verge                                       1\n",
      "Cageside Seats                                  1\n",
      "9to5google.com                                  1\n",
      "Salon                                           1\n",
      "Politico                                        1\n",
      "Variety                                         1\n",
      "KSL.com                                         1\n",
      "Name: count, dtype: int64\n"
     ]
    }
   ],
   "source": [
    "source_counts = df['Source'].value_counts()\n",
    "print(\"Distribution of Sources:\")\n",
    "print(source_counts)"
   ]
  },
  {
   "cell_type": "markdown",
   "metadata": {},
   "source": [
    "### Distribution of Publishing Days"
   ]
  },
  {
   "cell_type": "code",
   "execution_count": 12,
   "metadata": {},
   "outputs": [
    {
     "name": "stdout",
     "output_type": "stream",
     "text": [
      "Distribution of Publishing Days:\n",
      "Published At\n",
      "20-11-2024    23\n",
      "19-11-2024     6\n",
      "18-11-2024     2\n",
      "Name: count, dtype: int64\n"
     ]
    }
   ],
   "source": [
    "# Changing the form of the dates in the Published At column to DD-MM-YYYY\n",
    "df['Published At'] = pd.to_datetime(df['Published At']).dt.strftime('%d-%m-%Y')\n",
    "\n",
    "# Grouping based on dates\n",
    "date_counts = df['Published At'].value_counts()\n",
    "print(\"Distribution of Publishing Days:\")\n",
    "print(date_counts)\n"
   ]
  },
  {
   "cell_type": "markdown",
   "metadata": {},
   "source": [
    "## 3. Text Analysis"
   ]
  },
  {
   "cell_type": "markdown",
   "metadata": {},
   "source": [
    "### Most common key phrases in headlines"
   ]
  },
  {
   "cell_type": "code",
   "execution_count": 13,
   "metadata": {},
   "outputs": [
    {
     "name": "stdout",
     "output_type": "stream",
     "text": [
      "Most common words in headlines:\n",
      "trump        4\n",
      "reuters      3\n",
      "new          3\n",
      "cnn          3\n",
      "secretary    2\n",
      "galaxy       2\n",
      "game         2\n",
      "ukraine      2\n",
      "journal      2\n",
      "post         2\n",
      "dtype: int64\n"
     ]
    }
   ],
   "source": [
    "# Creating a text vector from the headlines\n",
    "vectorizer = CountVectorizer(stop_words='english')\n",
    "X = vectorizer.fit_transform(df['Title'].fillna(''))\n",
    "\n",
    "# Summing the frequency of the terms\n",
    "word_counts = pd.DataFrame(X.toarray(), columns=vectorizer.get_feature_names_out())\n",
    "top_words = word_counts.sum(axis=0).sort_values(ascending=False).head(10)\n",
    "print(\"Most common words in headlines:\")\n",
    "print(top_words)\n"
   ]
  },
  {
   "cell_type": "markdown",
   "metadata": {},
   "source": [
    "### Title Sentiment Analysis"
   ]
  },
  {
   "cell_type": "code",
   "execution_count": 14,
   "metadata": {},
   "outputs": [],
   "source": [
    "# Adding a column for the numerical sentiment analysis result (\"Sentiment\")\n",
    "df['Sentiment'] = df['Title'].fillna('').apply(lambda x: TextBlob(x).sentiment.polarity)\n",
    "\n",
    "# A function to kategorize the sentiments:\n",
    "# Positive sentiment = polarity is bigger than 0.1\n",
    "# Negative sentiment = polarity is less than -0.1\n",
    "# Other sentiments interpreted as neutral\n",
    "\n",
    "def classify_sentiment(polarity):\n",
    "    if polarity > 0.1:\n",
    "        return \"Positive\"\n",
    "    elif polarity < -0.1:\n",
    "        return \"Negative\"\n",
    "    else:\n",
    "        return \"Neutral\"\n",
    "\n",
    "# Add a colum for the categorized sentiments (\"Sentiment Category\")\n",
    "df['Sentiment Category'] = df['Sentiment'].apply(classify_sentiment)"
   ]
  },
  {
   "cell_type": "code",
   "execution_count": 15,
   "metadata": {},
   "outputs": [
    {
     "data": {
      "text/html": [
       "<div>\n",
       "<style scoped>\n",
       "    .dataframe tbody tr th:only-of-type {\n",
       "        vertical-align: middle;\n",
       "    }\n",
       "\n",
       "    .dataframe tbody tr th {\n",
       "        vertical-align: top;\n",
       "    }\n",
       "\n",
       "    .dataframe thead th {\n",
       "        text-align: right;\n",
       "    }\n",
       "</style>\n",
       "<table border=\"1\" class=\"dataframe\">\n",
       "  <thead>\n",
       "    <tr style=\"text-align: right;\">\n",
       "      <th></th>\n",
       "      <th>Title</th>\n",
       "      <th>Source</th>\n",
       "      <th>Author</th>\n",
       "      <th>Published At</th>\n",
       "      <th>URL</th>\n",
       "      <th>Sentiment</th>\n",
       "      <th>Sentiment Category</th>\n",
       "    </tr>\n",
       "  </thead>\n",
       "  <tbody>\n",
       "    <tr>\n",
       "      <th>0</th>\n",
       "      <td>Stocks are little changed as investors await N...</td>\n",
       "      <td>CNBC</td>\n",
       "      <td>Samantha Subin, Brian Evans</td>\n",
       "      <td>20-11-2024</td>\n",
       "      <td>https://www.cnbc.com/2024/11/19/stock-market-t...</td>\n",
       "      <td>-0.025568</td>\n",
       "      <td>Neutral</td>\n",
       "    </tr>\n",
       "    <tr>\n",
       "      <th>1</th>\n",
       "      <td>S.T.A.L.K.E.R. 2: Heart of Chornobyl is a glor...</td>\n",
       "      <td>The Verge</td>\n",
       "      <td>Lewis Gordon</td>\n",
       "      <td>20-11-2024</td>\n",
       "      <td>https://www.theverge.com/2024/11/20/24300652/s...</td>\n",
       "      <td>0.850000</td>\n",
       "      <td>Positive</td>\n",
       "    </tr>\n",
       "    <tr>\n",
       "      <th>3</th>\n",
       "      <td>'Bomb cyclone' kills 1 and knocks out power to...</td>\n",
       "      <td>Associated Press</td>\n",
       "      <td>Hallie Golden, Lisa Baumann</td>\n",
       "      <td>20-11-2024</td>\n",
       "      <td>https://apnews.com/article/california-oregon-w...</td>\n",
       "      <td>-0.166667</td>\n",
       "      <td>Negative</td>\n",
       "    </tr>\n",
       "    <tr>\n",
       "      <th>4</th>\n",
       "      <td>Liam Payne’s Funeral: One Direction’s Harry St...</td>\n",
       "      <td>Variety</td>\n",
       "      <td>Ellise Shafer</td>\n",
       "      <td>20-11-2024</td>\n",
       "      <td>https://variety.com/2024/music/global/liam-pay...</td>\n",
       "      <td>0.000000</td>\n",
       "      <td>Neutral</td>\n",
       "    </tr>\n",
       "    <tr>\n",
       "      <th>5</th>\n",
       "      <td>Biden administration approves sending anti-per...</td>\n",
       "      <td>CNN</td>\n",
       "      <td>Oren Liebermann, Natasha Bertrand</td>\n",
       "      <td>20-11-2024</td>\n",
       "      <td>https://www.cnn.com/2024/11/19/politics/biden-...</td>\n",
       "      <td>0.062500</td>\n",
       "      <td>Neutral</td>\n",
       "    </tr>\n",
       "  </tbody>\n",
       "</table>\n",
       "</div>"
      ],
      "text/plain": [
       "                                               Title            Source  \\\n",
       "0  Stocks are little changed as investors await N...              CNBC   \n",
       "1  S.T.A.L.K.E.R. 2: Heart of Chornobyl is a glor...         The Verge   \n",
       "3  'Bomb cyclone' kills 1 and knocks out power to...  Associated Press   \n",
       "4  Liam Payne’s Funeral: One Direction’s Harry St...           Variety   \n",
       "5  Biden administration approves sending anti-per...               CNN   \n",
       "\n",
       "                              Author Published At  \\\n",
       "0        Samantha Subin, Brian Evans   20-11-2024   \n",
       "1                       Lewis Gordon   20-11-2024   \n",
       "3        Hallie Golden, Lisa Baumann   20-11-2024   \n",
       "4                      Ellise Shafer   20-11-2024   \n",
       "5  Oren Liebermann, Natasha Bertrand   20-11-2024   \n",
       "\n",
       "                                                 URL  Sentiment  \\\n",
       "0  https://www.cnbc.com/2024/11/19/stock-market-t...  -0.025568   \n",
       "1  https://www.theverge.com/2024/11/20/24300652/s...   0.850000   \n",
       "3  https://apnews.com/article/california-oregon-w...  -0.166667   \n",
       "4  https://variety.com/2024/music/global/liam-pay...   0.000000   \n",
       "5  https://www.cnn.com/2024/11/19/politics/biden-...   0.062500   \n",
       "\n",
       "  Sentiment Category  \n",
       "0            Neutral  \n",
       "1           Positive  \n",
       "3           Negative  \n",
       "4            Neutral  \n",
       "5            Neutral  "
      ]
     },
     "execution_count": 15,
     "metadata": {},
     "output_type": "execute_result"
    }
   ],
   "source": [
    "df.head()"
   ]
  },
  {
   "cell_type": "markdown",
   "metadata": {},
   "source": [
    "## 4. Data Visualization"
   ]
  },
  {
   "cell_type": "code",
   "execution_count": 16,
   "metadata": {},
   "outputs": [
    {
     "data": {
      "image/png": "[encoded data removed]",
      "text/plain": [
       "<Figure size 800x500 with 1 Axes>"
      ]
     },
     "metadata": {},
     "output_type": "display_data"
    }
   ],
   "source": [
    "# Calculating the frequency of different news sources and selecting the top 5 most frequent ones\n",
    "top_sources = df['Source'].value_counts().nlargest(5)\n",
    "\n",
    "# Creating a pie chart of the top 5 news sources\n",
    "top_sources.plot(kind='pie', autopct='%1.1f%%', figsize=(8, 5))\n",
    "plt.title(\"Distribution of Top 5 News Sources\")\n",
    "plt.ylabel('')\n",
    "plt.show()"
   ]
  },
  {
   "cell_type": "code",
   "execution_count": 17,
   "metadata": {},
   "outputs": [
    {
     "data": {
      "image/png": "[encoded data removed]",
      "text/plain": [
       "<Figure size 1000x500 with 1 Axes>"
      ]
     },
     "metadata": {},
     "output_type": "display_data"
    }
   ],
   "source": [
    "# Creating a line plot of the daily amount of publications\n",
    "date_counts.sort_index().plot(kind='line', marker='o', figsize=(10, 5))\n",
    "plt.title(\"Daily Number of Publications\")\n",
    "plt.xlabel(\"Date\")\n",
    "plt.ylabel(\"Number of Publications\")\n",
    "plt.show()"
   ]
  },
  {
   "cell_type": "markdown",
   "metadata": {},
   "source": [
    "## 5. Importing the Analyzed Data to a new Excel File"
   ]
  },
  {
   "cell_type": "code",
   "execution_count": 18,
   "metadata": {},
   "outputs": [
    {
     "name": "stdout",
     "output_type": "stream",
     "text": [
      "Updated DataFrame saved to the file 'analyzed_headlines.xlsx'!\n"
     ]
    }
   ],
   "source": [
    "# Altering the Published At column back to datetime format (it was previously converted to string)\n",
    "df['Published At'] = pd.to_datetime(df['Published At'], errors='coerce', dayfirst=True)\n",
    "\n",
    "# Deleting the time zone from the Published At column\n",
    "df['Published At'] = df['Published At'].dt.tz_localize(None)\n",
    "\n",
    "# Formatting the date to DD-MM-YYYY\n",
    "df['Published At'] = df['Published At'].dt.strftime('%d-%m-%Y')\n",
    "\n",
    "# Saving the updated dataframe to an Excel file\n",
    "output_file = 'analyzed_headlines.xlsx'\n",
    "df.to_excel(output_file, index=False, engine='openpyxl')\n",
    "\n",
    "print(f\"Updated DataFrame saved to the file '{output_file}'!\")"
   ]
  }
 ],
 "metadata": {
  "kernelspec": {
   "display_name": "Python 3",
   "language": "python",
   "name": "python3"
  },
  "language_info": {
   "codemirror_mode": {
    "name": "ipython",
    "version": 3
   },
   "file_extension": ".py",
   "mimetype": "text/x-python",
   "name": "python",
   "nbconvert_exporter": "python",
   "pygments_lexer": "ipython3",
   "version": "3.11.4"
  }
 },
 "nbformat": 4,
 "nbformat_minor": 2
}
